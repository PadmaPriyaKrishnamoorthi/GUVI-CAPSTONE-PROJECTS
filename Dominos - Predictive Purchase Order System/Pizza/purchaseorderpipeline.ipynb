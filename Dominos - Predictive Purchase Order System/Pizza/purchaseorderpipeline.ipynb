{
 "cells": [
  {
   "cell_type": "code",
   "execution_count": 1,
   "id": "d20071ae-bf37-4b02-8fd1-4eec68d0dbbe",
   "metadata": {},
   "outputs": [
    {
     "name": "stdout",
     "output_type": "stream",
     "text": [
      "\n",
      "=== Final Purchase Order Generated Successfully ===\n",
      "    Ingredient  Total_Required_Grams\n",
      "15     Chicken          19260.888201\n",
      "51  Red Onions          17124.711245\n",
      "13   Capocollo          15304.013500\n",
      "62    Tomatoes          11781.195363\n",
      "6        Bacon           9952.367732\n",
      "44   Pepperoni           8624.420357\n",
      "37   Mushrooms           7379.159865\n",
      "25      Garlic           6180.497497\n",
      "58     Spinach           5997.475931\n",
      "20        Corn           5421.245518\n"
     ]
    }
   ],
   "source": [
    "# purchase_order_pipeline.py\n",
    "import pandas as pd\n",
    "import numpy as np\n",
    "from prophet import Prophet\n",
    "from statsmodels.tsa.statespace.sarimax import SARIMAX\n",
    "from sklearn.linear_model import LinearRegression\n",
    "from sklearn.preprocessing import MinMaxScaler\n",
    "from sklearn.metrics import mean_absolute_error, mean_squared_error\n",
    "from tensorflow.keras.models import Sequential\n",
    "from tensorflow.keras.layers import LSTM, Dense\n",
    "import warnings\n",
    "warnings.filterwarnings('ignore')\n",
    "\n",
    "# Load data\n",
    "sales_df = pd.read_csv(r\"C:\\Users\\Vishwa\\Desktop\\GUVI captone\\Dominos\\Pizza_Sale - pizza_sales.csv\")\n",
    "ingredients_df = pd.read_csv(r\"C:\\Users\\Vishwa\\Desktop\\GUVI captone\\Dominos\\Pizza_ingredients - Pizza_ingredients.csv\")\n",
    "\n",
    "# Preprocess data\n",
    "sales_df['order_date'] = pd.to_datetime(sales_df['order_date'], errors='coerce', dayfirst=True)\n",
    "daily_sales = sales_df.groupby('order_date')['quantity'].sum()\n",
    "daily_sales_df = daily_sales.reset_index().rename(columns={'order_date': 'ds', 'quantity': 'y'})\n",
    "\n",
    "# Train/Test Split\n",
    "train = daily_sales[:-7]\n",
    "test = daily_sales[-7:]\n",
    "\n",
    "# SARIMA Forecast\n",
    "sarima_model = SARIMAX(train, order=(1,1,1), seasonal_order=(1,1,1,7))\n",
    "sarima_result = sarima_model.fit()\n",
    "sarima_forecast = sarima_result.forecast(steps=7)\n",
    "avg_daily_pred = sarima_forecast.mean()\n",
    "\n",
    "# Generate Pizza Forecast\n",
    "pizza_ratios = sales_df.groupby('pizza_name_id')['quantity'].sum() / sales_df['quantity'].sum()\n",
    "pizza_forecast = (pizza_ratios * avg_daily_pred * 7).reset_index()\n",
    "pizza_forecast.columns = ['pizza_name_id', 'forecasted_quantity']\n",
    "\n",
    "# Purchase Order Generation\n",
    "purchase_order = pd.merge(pizza_forecast, ingredients_df, on='pizza_name_id', how='left')\n",
    "purchase_order['total_ingredient_qty'] = purchase_order['forecasted_quantity'] * purchase_order['Items_Qty_In_Grams']\n",
    "ingredient_summary = purchase_order.groupby('pizza_ingredients')['total_ingredient_qty'].sum().reset_index()\n",
    "ingredient_summary.columns = ['Ingredient', 'Total_Required_Grams']\n",
    "ingredient_summary = ingredient_summary.sort_values(by='Total_Required_Grams', ascending=False)\n",
    "\n",
    "# Export Purchase Order\n",
    "ingredient_summary.to_csv(r\"C:\\Users\\Vishwa\\Desktop\\GUVI captone\\Dominos\\New Folder\\final_purchase_order.csv\", index=False)\n",
    "\n",
    "# Print Summary\n",
    "print(\"\\n=== Final Purchase Order Generated Successfully ===\")\n",
    "print(ingredient_summary.head(10))\n"
   ]
  },
  {
   "cell_type": "code",
   "execution_count": null,
   "id": "c5b54627-4765-4dc1-92db-bb89a4175a9d",
   "metadata": {},
   "outputs": [],
   "source": []
  }
 ],
 "metadata": {
  "kernelspec": {
   "display_name": "Python 3 (ipykernel)",
   "language": "python",
   "name": "python3"
  },
  "language_info": {
   "codemirror_mode": {
    "name": "ipython",
    "version": 3
   },
   "file_extension": ".py",
   "mimetype": "text/x-python",
   "name": "python",
   "nbconvert_exporter": "python",
   "pygments_lexer": "ipython3",
   "version": "3.11.7"
  }
 },
 "nbformat": 4,
 "nbformat_minor": 5
}
