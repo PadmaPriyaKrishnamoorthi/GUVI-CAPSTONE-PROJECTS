{
 "cells": [
  {
   "cell_type": "code",
   "execution_count": 3,
   "id": "2d3ad202-b3d2-4e49-bc33-b54694b598ec",
   "metadata": {},
   "outputs": [
    {
     "name": "stdout",
     "output_type": "stream",
     "text": [
      "Requirement already satisfied: pandas in c:\\users\\vishwa\\anaconda3\\lib\\site-packages (2.2.2)\n",
      "Requirement already satisfied: numpy in c:\\users\\vishwa\\anaconda3\\lib\\site-packages (1.26.4)\n",
      "Requirement already satisfied: scikit-learn in c:\\users\\vishwa\\anaconda3\\lib\\site-packages (1.2.2)\n",
      "Requirement already satisfied: nltk in c:\\users\\vishwa\\anaconda3\\lib\\site-packages (3.9.1)\n",
      "Requirement already satisfied: wordcloud in c:\\users\\vishwa\\anaconda3\\lib\\site-packages (1.9.4)\n",
      "Requirement already satisfied: matplotlib in c:\\users\\vishwa\\anaconda3\\lib\\site-packages (3.8.0)\n",
      "Requirement already satisfied: seaborn in c:\\users\\vishwa\\anaconda3\\lib\\site-packages (0.12.2)\n",
      "Requirement already satisfied: python-dateutil>=2.8.2 in c:\\users\\vishwa\\anaconda3\\lib\\site-packages (from pandas) (2.8.2)\n",
      "Requirement already satisfied: pytz>=2020.1 in c:\\users\\vishwa\\anaconda3\\lib\\site-packages (from pandas) (2023.3.post1)\n",
      "Requirement already satisfied: tzdata>=2022.7 in c:\\users\\vishwa\\anaconda3\\lib\\site-packages (from pandas) (2023.3)\n",
      "Requirement already satisfied: scipy>=1.3.2 in c:\\users\\vishwa\\anaconda3\\lib\\site-packages (from scikit-learn) (1.11.4)\n",
      "Requirement already satisfied: joblib>=1.1.1 in c:\\users\\vishwa\\anaconda3\\lib\\site-packages (from scikit-learn) (1.2.0)\n",
      "Requirement already satisfied: threadpoolctl>=2.0.0 in c:\\users\\vishwa\\anaconda3\\lib\\site-packages (from scikit-learn) (2.2.0)\n",
      "Requirement already satisfied: click in c:\\users\\vishwa\\anaconda3\\lib\\site-packages (from nltk) (8.1.7)\n",
      "Requirement already satisfied: regex>=2021.8.3 in c:\\users\\vishwa\\anaconda3\\lib\\site-packages (from nltk) (2023.10.3)\n",
      "Requirement already satisfied: tqdm in c:\\users\\vishwa\\anaconda3\\lib\\site-packages (from nltk) (4.65.0)\n",
      "Requirement already satisfied: pillow in c:\\users\\vishwa\\anaconda3\\lib\\site-packages (from wordcloud) (10.4.0)\n",
      "Requirement already satisfied: contourpy>=1.0.1 in c:\\users\\vishwa\\anaconda3\\lib\\site-packages (from matplotlib) (1.2.0)\n",
      "Requirement already satisfied: cycler>=0.10 in c:\\users\\vishwa\\anaconda3\\lib\\site-packages (from matplotlib) (0.11.0)\n",
      "Requirement already satisfied: fonttools>=4.22.0 in c:\\users\\vishwa\\anaconda3\\lib\\site-packages (from matplotlib) (4.25.0)\n",
      "Requirement already satisfied: kiwisolver>=1.0.1 in c:\\users\\vishwa\\anaconda3\\lib\\site-packages (from matplotlib) (1.4.4)\n",
      "Requirement already satisfied: packaging>=20.0 in c:\\users\\vishwa\\anaconda3\\lib\\site-packages (from matplotlib) (23.1)\n",
      "Requirement already satisfied: pyparsing>=2.3.1 in c:\\users\\vishwa\\anaconda3\\lib\\site-packages (from matplotlib) (3.0.9)\n",
      "Requirement already satisfied: six>=1.5 in c:\\users\\vishwa\\anaconda3\\lib\\site-packages (from python-dateutil>=2.8.2->pandas) (1.16.0)\n",
      "Requirement already satisfied: colorama in c:\\users\\vishwa\\anaconda3\\lib\\site-packages (from click->nltk) (0.4.6)\n",
      "Note: you may need to restart the kernel to use updated packages.\n"
     ]
    }
   ],
   "source": [
    "pip install pandas numpy scikit-learn nltk wordcloud matplotlib seaborn\n"
   ]
  },
  {
   "cell_type": "code",
   "execution_count": 4,
   "id": "2e003b4a-f562-4f38-a7f2-9b4ff8049bfe",
   "metadata": {},
   "outputs": [
    {
     "name": "stderr",
     "output_type": "stream",
     "text": [
      "[nltk_data] Downloading package stopwords to\n",
      "[nltk_data]     C:\\Users\\Vishwa\\AppData\\Roaming\\nltk_data...\n",
      "[nltk_data]   Package stopwords is already up-to-date!\n"
     ]
    }
   ],
   "source": [
    "import pandas as pd\n",
    "import re\n",
    "import nltk\n",
    "from nltk.corpus import stopwords\n",
    "\n",
    "# Download stopwords\n",
    "nltk.download('stopwords')\n",
    "stop_words = set(stopwords.words('english'))\n",
    "\n",
    "# Load Dataset\n",
    "train = pd.read_csv(r\"C:\\Users\\Vishwa\\Desktop\\GUVI captone\\twitter\\ds\\train.csv\")\n",
    "test = pd.read_csv(r\"C:\\Users\\Vishwa\\Desktop\\GUVI captone\\twitter\\ds\\test.csv\")\n",
    "\n",
    "# Text Cleaning Function\n",
    "def clean_text(text):\n",
    "    text = re.sub(r\"http\\S+|www\\S+|https\\S+\", '', text, flags=re.MULTILINE)  # Remove URLs\n",
    "    text = re.sub(r'\\W', ' ', text)  # Remove special characters\n",
    "    text = re.sub(r'\\s+[a-zA-Z]\\s+', ' ', text)  # Remove single characters\n",
    "    text = re.sub(r'\\^[a-zA-Z]\\s+', ' ', text)  # Remove single characters at start\n",
    "    text = re.sub(r'\\s+', ' ', text, flags=re.I)  # Replace multiple spaces\n",
    "    text = text.lower()  # Convert to lowercase\n",
    "    text = ' '.join(word for word in text.split() if word not in stop_words)  # Remove stopwords\n",
    "    return text\n",
    "\n",
    "# Apply text cleaning\n",
    "train['cleaned_tweet'] = train['tweet'].apply(clean_text)\n",
    "test['cleaned_tweet'] = test['tweet'].apply(clean_text)\n"
   ]
  },
  {
   "cell_type": "code",
   "execution_count": 5,
   "id": "b31cfcb6-fbc8-4233-a22a-dfbbdc43be80",
   "metadata": {},
   "outputs": [],
   "source": [
    "from sklearn.feature_extraction.text import TfidfVectorizer\n",
    "\n",
    "# Convert text to TF-IDF features\n",
    "tfidf = TfidfVectorizer(max_features=5000)  # Use top 5000 words\n",
    "X_train = tfidf.fit_transform(train['cleaned_tweet'])\n",
    "X_test = tfidf.transform(test['cleaned_tweet'])\n",
    "\n",
    "y_train = train['label']\n"
   ]
  },
  {
   "cell_type": "code",
   "execution_count": 6,
   "id": "6b72b3ff-4a96-41ea-b3cf-f539a962dacf",
   "metadata": {},
   "outputs": [
    {
     "name": "stdout",
     "output_type": "stream",
     "text": [
      "SVM Model Performance:\n",
      "Accuracy: 0.9701207684124898\n",
      "Precision: 0.949685534591195\n",
      "Recall: 0.6061552185548618\n",
      "F1-Score: 0.7399945548597876\n"
     ]
    }
   ],
   "source": [
    "from sklearn.svm import SVC\n",
    "from sklearn.metrics import accuracy_score, precision_score, recall_score, f1_score\n",
    "\n",
    "# Train SVM Model\n",
    "svm_model = SVC(kernel='linear', C=1.0)  # Linear Kernel\n",
    "svm_model.fit(X_train, y_train)\n",
    "\n",
    "# Predictions\n",
    "y_pred = svm_model.predict(X_train)\n",
    "\n",
    "# Evaluate Model Performance\n",
    "print(\"SVM Model Performance:\")\n",
    "print(\"Accuracy:\", accuracy_score(y_train, y_pred))\n",
    "print(\"Precision:\", precision_score(y_train, y_pred))\n",
    "print(\"Recall:\", recall_score(y_train, y_pred))\n",
    "print(\"F1-Score:\", f1_score(y_train, y_pred))\n"
   ]
  },
  {
   "cell_type": "code",
   "execution_count": 7,
   "id": "9608cedd-977f-4470-86c0-79a255270c85",
   "metadata": {},
   "outputs": [
    {
     "name": "stdout",
     "output_type": "stream",
     "text": [
      "SVM Model Performance:\n",
      "Accuracy: 0.9701207684124898\n",
      "Precision: 0.949685534591195\n",
      "Recall: 0.6061552185548618\n",
      "F1-Score: 0.7399945548597876\n"
     ]
    }
   ],
   "source": [
    "from sklearn.svm import SVC\n",
    "from sklearn.metrics import accuracy_score, precision_score, recall_score, f1_score\n",
    "\n",
    "# Train SVM Model\n",
    "svm_model = SVC(kernel='linear', C=1.0)  # Linear Kernel\n",
    "svm_model.fit(X_train, y_train)\n",
    "\n",
    "# Predictions\n",
    "y_pred = svm_model.predict(X_train)\n",
    "\n",
    "# Evaluate Model Performance\n",
    "print(\"SVM Model Performance:\")\n",
    "print(\"Accuracy:\", accuracy_score(y_train, y_pred))\n",
    "print(\"Precision:\", precision_score(y_train, y_pred))\n",
    "print(\"Recall:\", recall_score(y_train, y_pred))\n",
    "print(\"F1-Score:\", f1_score(y_train, y_pred))\n"
   ]
  },
  {
   "cell_type": "code",
   "execution_count": 8,
   "id": "50039100-1602-4d46-a064-f8b665662a82",
   "metadata": {},
   "outputs": [
    {
     "name": "stdout",
     "output_type": "stream",
     "text": [
      "Predictions saved successfully in svm_test_predictions.csv!\n"
     ]
    }
   ],
   "source": [
    "test['prediction'] = svm_model.predict(X_test)\n",
    "\n",
    "# Save Predictions\n",
    "test[['id', 'prediction']].to_csv(\"svm_test_predictions.csv\", index=False)\n",
    "print(\"Predictions saved successfully in svm_test_predictions.csv!\")\n"
   ]
  },
  {
   "cell_type": "code",
   "execution_count": 9,
   "id": "394ca394-dd04-4867-94b9-382e3388a8e1",
   "metadata": {},
   "outputs": [
    {
     "name": "stdout",
     "output_type": "stream",
     "text": [
      "Fitting 5 folds for each of 18 candidates, totalling 90 fits\n",
      "Best Parameters: {'C': 10, 'gamma': 'scale', 'kernel': 'rbf'}\n"
     ]
    }
   ],
   "source": [
    "from sklearn.model_selection import GridSearchCV\n",
    "from sklearn.svm import SVC\n",
    "\n",
    "# Define SVM hyperparameters to tune\n",
    "param_grid = {\n",
    "    'C': [0.1, 1, 10],  # Regularization parameter\n",
    "    'kernel': ['linear', 'rbf', 'poly'],  # Kernel type\n",
    "    'gamma': ['scale', 'auto']  # Kernel coefficient (only for 'rbf' and 'poly')\n",
    "}\n",
    "\n",
    "# Perform Grid Search\n",
    "grid_search = GridSearchCV(SVC(), param_grid, cv=5, scoring='accuracy', verbose=1, n_jobs=-1)\n",
    "grid_search.fit(X_train, y_train)\n",
    "\n",
    "# Best Parameters\n",
    "print(\"Best Parameters:\", grid_search.best_params_)\n",
    "\n",
    "# Train the best model\n",
    "best_svm = grid_search.best_estimator_\n"
   ]
  },
  {
   "cell_type": "code",
   "execution_count": 10,
   "id": "20768038-44f5-416b-a085-93542586be86",
   "metadata": {},
   "outputs": [
    {
     "name": "stdout",
     "output_type": "stream",
     "text": [
      "\n",
      "Optimized SVM Model Performance:\n",
      "Accuracy: 0.999311682623115\n",
      "Precision: 0.9991007194244604\n",
      "Recall: 0.9910793933987511\n",
      "F1-Score: 0.9950738916256158\n"
     ]
    }
   ],
   "source": [
    "from sklearn.metrics import accuracy_score, precision_score, recall_score, f1_score\n",
    "\n",
    "# Predict using the best model\n",
    "y_pred_best = best_svm.predict(X_train)\n",
    "\n",
    "# Evaluate Model Performance\n",
    "print(\"\\nOptimized SVM Model Performance:\")\n",
    "print(\"Accuracy:\", accuracy_score(y_train, y_pred_best))\n",
    "print(\"Precision:\", precision_score(y_train, y_pred_best))\n",
    "print(\"Recall:\", recall_score(y_train, y_pred_best))\n",
    "print(\"F1-Score:\", f1_score(y_train, y_pred_best))\n"
   ]
  },
  {
   "cell_type": "code",
   "execution_count": 11,
   "id": "7d03860f-cdad-4574-b27b-67cb60c20fa1",
   "metadata": {},
   "outputs": [
    {
     "name": "stdout",
     "output_type": "stream",
     "text": [
      "\n",
      "SVM Performance:\n",
      "Accuracy: 0.999311682623115\n",
      "Precision: 0.9991007194244604\n",
      "Recall: 0.9910793933987511\n",
      "F1-Score: 0.9950738916256158\n",
      "\n",
      "Logistic Regression Performance:\n",
      "Accuracy: 0.9580126400100119\n",
      "Precision: 0.9420432220039293\n",
      "Recall: 0.427743086529884\n",
      "F1-Score: 0.5883435582822085\n",
      "\n",
      "Random Forest Performance:\n",
      "Accuracy: 0.9993742569301045\n",
      "Precision: 0.9995503597122302\n",
      "Recall: 0.9915254237288136\n",
      "F1-Score: 0.9955217196596506\n"
     ]
    }
   ],
   "source": [
    "from sklearn.linear_model import LogisticRegression\n",
    "from sklearn.ensemble import RandomForestClassifier\n",
    "\n",
    "# Train Logistic Regression\n",
    "lr_model = LogisticRegression()\n",
    "lr_model.fit(X_train, y_train)\n",
    "y_pred_lr = lr_model.predict(X_train)\n",
    "\n",
    "# Train Random Forest\n",
    "rf_model = RandomForestClassifier(n_estimators=100)\n",
    "rf_model.fit(X_train, y_train)\n",
    "y_pred_rf = rf_model.predict(X_train)\n",
    "\n",
    "# Compare Performance\n",
    "models = {\n",
    "    \"SVM\": best_svm,\n",
    "    \"Logistic Regression\": lr_model,\n",
    "    \"Random Forest\": rf_model\n",
    "}\n",
    "\n",
    "for name, model in models.items():\n",
    "    y_pred = model.predict(X_train)\n",
    "    print(f\"\\n{name} Performance:\")\n",
    "    print(\"Accuracy:\", accuracy_score(y_train, y_pred))\n",
    "    print(\"Precision:\", precision_score(y_train, y_pred))\n",
    "    print(\"Recall:\", recall_score(y_train, y_pred))\n",
    "    print(\"F1-Score:\", f1_score(y_train, y_pred))\n"
   ]
  },
  {
   "cell_type": "code",
   "execution_count": 12,
   "id": "78dae838-a13b-4337-9be6-07c9fdba39a7",
   "metadata": {},
   "outputs": [
    {
     "name": "stdout",
     "output_type": "stream",
     "text": [
      "Requirement already satisfied: joblib in c:\\users\\vishwa\\anaconda3\\lib\\site-packages (1.2.0)\n",
      "Requirement already satisfied: streamlit in c:\\users\\vishwa\\anaconda3\\lib\\site-packages (1.32.0)\n",
      "Requirement already satisfied: pandas in c:\\users\\vishwa\\anaconda3\\lib\\site-packages (2.2.2)\n",
      "Requirement already satisfied: scikit-learn in c:\\users\\vishwa\\anaconda3\\lib\\site-packages (1.2.2)\n",
      "Requirement already satisfied: altair<6,>=4.0 in c:\\users\\vishwa\\anaconda3\\lib\\site-packages (from streamlit) (5.0.1)\n",
      "Requirement already satisfied: blinker<2,>=1.0.0 in c:\\users\\vishwa\\anaconda3\\lib\\site-packages (from streamlit) (1.6.2)\n",
      "Requirement already satisfied: cachetools<6,>=4.0 in c:\\users\\vishwa\\anaconda3\\lib\\site-packages (from streamlit) (4.2.2)\n",
      "Requirement already satisfied: click<9,>=7.0 in c:\\users\\vishwa\\anaconda3\\lib\\site-packages (from streamlit) (8.1.7)\n",
      "Requirement already satisfied: numpy<2,>=1.19.3 in c:\\users\\vishwa\\anaconda3\\lib\\site-packages (from streamlit) (1.26.4)\n",
      "Requirement already satisfied: packaging<24,>=16.8 in c:\\users\\vishwa\\anaconda3\\lib\\site-packages (from streamlit) (23.1)\n",
      "Requirement already satisfied: pillow<11,>=7.1.0 in c:\\users\\vishwa\\anaconda3\\lib\\site-packages (from streamlit) (10.4.0)\n",
      "Requirement already satisfied: protobuf<5,>=3.20 in c:\\users\\vishwa\\anaconda3\\lib\\site-packages (from streamlit) (3.20.2)\n",
      "Requirement already satisfied: pyarrow>=7.0 in c:\\users\\vishwa\\anaconda3\\lib\\site-packages (from streamlit) (14.0.2)\n",
      "Requirement already satisfied: requests<3,>=2.27 in c:\\users\\vishwa\\anaconda3\\lib\\site-packages (from streamlit) (2.31.0)\n",
      "Requirement already satisfied: rich<14,>=10.14.0 in c:\\users\\vishwa\\anaconda3\\lib\\site-packages (from streamlit) (13.3.5)\n",
      "Requirement already satisfied: tenacity<9,>=8.1.0 in c:\\users\\vishwa\\anaconda3\\lib\\site-packages (from streamlit) (8.2.2)\n",
      "Requirement already satisfied: toml<2,>=0.10.1 in c:\\users\\vishwa\\anaconda3\\lib\\site-packages (from streamlit) (0.10.2)\n",
      "Requirement already satisfied: typing-extensions<5,>=4.3.0 in c:\\users\\vishwa\\anaconda3\\lib\\site-packages (from streamlit) (4.12.2)\n",
      "Requirement already satisfied: gitpython!=3.1.19,<4,>=3.0.7 in c:\\users\\vishwa\\anaconda3\\lib\\site-packages (from streamlit) (3.1.37)\n",
      "Requirement already satisfied: pydeck<1,>=0.8.0b4 in c:\\users\\vishwa\\anaconda3\\lib\\site-packages (from streamlit) (0.8.0)\n",
      "Requirement already satisfied: tornado<7,>=6.0.3 in c:\\users\\vishwa\\anaconda3\\lib\\site-packages (from streamlit) (6.3.3)\n",
      "Requirement already satisfied: watchdog>=2.1.5 in c:\\users\\vishwa\\anaconda3\\lib\\site-packages (from streamlit) (2.1.6)\n",
      "Requirement already satisfied: python-dateutil>=2.8.2 in c:\\users\\vishwa\\anaconda3\\lib\\site-packages (from pandas) (2.8.2)\n",
      "Requirement already satisfied: pytz>=2020.1 in c:\\users\\vishwa\\anaconda3\\lib\\site-packages (from pandas) (2023.3.post1)\n",
      "Requirement already satisfied: tzdata>=2022.7 in c:\\users\\vishwa\\anaconda3\\lib\\site-packages (from pandas) (2023.3)\n",
      "Requirement already satisfied: scipy>=1.3.2 in c:\\users\\vishwa\\anaconda3\\lib\\site-packages (from scikit-learn) (1.11.4)\n",
      "Requirement already satisfied: threadpoolctl>=2.0.0 in c:\\users\\vishwa\\anaconda3\\lib\\site-packages (from scikit-learn) (2.2.0)\n",
      "Requirement already satisfied: jinja2 in c:\\users\\vishwa\\anaconda3\\lib\\site-packages (from altair<6,>=4.0->streamlit) (3.1.3)\n",
      "Requirement already satisfied: jsonschema>=3.0 in c:\\users\\vishwa\\anaconda3\\lib\\site-packages (from altair<6,>=4.0->streamlit) (4.19.2)\n",
      "Requirement already satisfied: toolz in c:\\users\\vishwa\\anaconda3\\lib\\site-packages (from altair<6,>=4.0->streamlit) (0.12.0)\n",
      "Requirement already satisfied: colorama in c:\\users\\vishwa\\anaconda3\\lib\\site-packages (from click<9,>=7.0->streamlit) (0.4.6)\n",
      "Requirement already satisfied: gitdb<5,>=4.0.1 in c:\\users\\vishwa\\anaconda3\\lib\\site-packages (from gitpython!=3.1.19,<4,>=3.0.7->streamlit) (4.0.7)\n",
      "Requirement already satisfied: six>=1.5 in c:\\users\\vishwa\\anaconda3\\lib\\site-packages (from python-dateutil>=2.8.2->pandas) (1.16.0)\n",
      "Requirement already satisfied: charset-normalizer<4,>=2 in c:\\users\\vishwa\\anaconda3\\lib\\site-packages (from requests<3,>=2.27->streamlit) (2.0.4)\n",
      "Requirement already satisfied: idna<4,>=2.5 in c:\\users\\vishwa\\anaconda3\\lib\\site-packages (from requests<3,>=2.27->streamlit) (3.4)\n",
      "Requirement already satisfied: urllib3<3,>=1.21.1 in c:\\users\\vishwa\\anaconda3\\lib\\site-packages (from requests<3,>=2.27->streamlit) (2.0.7)\n",
      "Requirement already satisfied: certifi>=2017.4.17 in c:\\users\\vishwa\\anaconda3\\lib\\site-packages (from requests<3,>=2.27->streamlit) (2024.7.4)\n",
      "Requirement already satisfied: markdown-it-py<3.0.0,>=2.2.0 in c:\\users\\vishwa\\anaconda3\\lib\\site-packages (from rich<14,>=10.14.0->streamlit) (2.2.0)\n",
      "Requirement already satisfied: pygments<3.0.0,>=2.13.0 in c:\\users\\vishwa\\anaconda3\\lib\\site-packages (from rich<14,>=10.14.0->streamlit) (2.15.1)\n",
      "Requirement already satisfied: smmap<5,>=3.0.1 in c:\\users\\vishwa\\anaconda3\\lib\\site-packages (from gitdb<5,>=4.0.1->gitpython!=3.1.19,<4,>=3.0.7->streamlit) (4.0.0)\n",
      "Requirement already satisfied: MarkupSafe>=2.0 in c:\\users\\vishwa\\anaconda3\\lib\\site-packages (from jinja2->altair<6,>=4.0->streamlit) (2.1.3)\n",
      "Requirement already satisfied: attrs>=22.2.0 in c:\\users\\vishwa\\anaconda3\\lib\\site-packages (from jsonschema>=3.0->altair<6,>=4.0->streamlit) (25.1.0)\n",
      "Requirement already satisfied: jsonschema-specifications>=2023.03.6 in c:\\users\\vishwa\\anaconda3\\lib\\site-packages (from jsonschema>=3.0->altair<6,>=4.0->streamlit) (2023.7.1)\n",
      "Requirement already satisfied: referencing>=0.28.4 in c:\\users\\vishwa\\anaconda3\\lib\\site-packages (from jsonschema>=3.0->altair<6,>=4.0->streamlit) (0.30.2)\n",
      "Requirement already satisfied: rpds-py>=0.7.1 in c:\\users\\vishwa\\anaconda3\\lib\\site-packages (from jsonschema>=3.0->altair<6,>=4.0->streamlit) (0.10.6)\n",
      "Requirement already satisfied: mdurl~=0.1 in c:\\users\\vishwa\\anaconda3\\lib\\site-packages (from markdown-it-py<3.0.0,>=2.2.0->rich<14,>=10.14.0->streamlit) (0.1.0)\n",
      "Note: you may need to restart the kernel to use updated packages.\n"
     ]
    }
   ],
   "source": [
    "pip install joblib streamlit pandas scikit-learn\n"
   ]
  },
  {
   "cell_type": "code",
   "execution_count": 13,
   "id": "18a3f7bc-4c0b-4fa9-9bd4-a9e8b418947e",
   "metadata": {},
   "outputs": [
    {
     "name": "stdout",
     "output_type": "stream",
     "text": [
      "SVM Model and Vectorizer saved successfully!\n"
     ]
    }
   ],
   "source": [
    "\n",
    "import joblib\n",
    "\n",
    "# Save the model\n",
    "joblib.dump(best_svm, \"svm_model.pkl\")\n",
    "joblib.dump(tfidf, \"tfidf_vectorizer.pkl\")  # Save TF-IDF Vectorizer\n",
    "\n",
    "print(\"SVM Model and Vectorizer saved successfully!\")\n"
   ]
  },
  {
   "cell_type": "code",
   "execution_count": null,
   "id": "2fda7b64-31e4-4f74-8e26-54e256bbf735",
   "metadata": {},
   "outputs": [],
   "source": []
  },
  {
   "cell_type": "code",
   "execution_count": null,
   "id": "15c1c695-c604-42dd-bfb9-d1133d21f1e3",
   "metadata": {},
   "outputs": [],
   "source": []
  },
  {
   "cell_type": "code",
   "execution_count": 42,
   "id": "c0a7bdf7-0759-4538-a81c-46a7afea97a6",
   "metadata": {},
   "outputs": [
    {
     "name": "stdout",
     "output_type": "stream",
     "text": [
      "label\n",
      "0    29720\n",
      "1     2242\n",
      "Name: count, dtype: int64\n"
     ]
    }
   ],
   "source": [
    "print(train['label'].value_counts())\n"
   ]
  },
  {
   "cell_type": "code",
   "execution_count": 44,
   "id": "deb9f5ab-bc28-47a4-aa7e-f977a3535d8a",
   "metadata": {},
   "outputs": [
    {
     "name": "stdout",
     "output_type": "stream",
     "text": [
      "Before SMOTE: label\n",
      "0    29720\n",
      "1     2242\n",
      "Name: count, dtype: int64\n",
      "After SMOTE: label\n",
      "0    29720\n",
      "1    29720\n",
      "Name: count, dtype: int64\n"
     ]
    }
   ],
   "source": [
    "from imblearn.over_sampling import SMOTE\n",
    "import pandas as pd\n",
    "\n",
    "smote = SMOTE(sampling_strategy='auto', random_state=42)\n",
    "X_resampled, y_resampled = smote.fit_resample(X_train, y_train)\n",
    "\n",
    "print(\"Before SMOTE:\", y_train.value_counts())\n",
    "print(\"After SMOTE:\", pd.Series(y_resampled).value_counts())\n"
   ]
  },
  {
   "cell_type": "code",
   "execution_count": 46,
   "id": "16b1ea74-07a8-480d-9d5d-a45e2629107c",
   "metadata": {},
   "outputs": [
    {
     "name": "stdout",
     "output_type": "stream",
     "text": [
      "hate group people\n"
     ]
    }
   ],
   "source": [
    "print(clean_text(\"I hate this group of people!\"))\n"
   ]
  },
  {
   "cell_type": "code",
   "execution_count": 48,
   "id": "82731770-d6e1-4e34-89d9-b1d65e470549",
   "metadata": {},
   "outputs": [],
   "source": [
    "if \"hate\" in stop_words:\n",
    "    stop_words.remove(\"hate\")\n"
   ]
  },
  {
   "cell_type": "code",
   "execution_count": 50,
   "id": "c6bd4143-f4a7-4472-b1b8-3eef7931bfca",
   "metadata": {},
   "outputs": [],
   "source": [
    "from sklearn.feature_extraction.text import TfidfVectorizer\n",
    "\n",
    "tfidf = TfidfVectorizer(max_features=10000, ngram_range=(1,2))  # Use bigrams (word pairs)\n",
    "X_train = tfidf.fit_transform(train['cleaned_tweet'])\n",
    "X_test = tfidf.transform(test['cleaned_tweet'])\n"
   ]
  },
  {
   "cell_type": "code",
   "execution_count": null,
   "id": "98a03e11-b6ac-4d14-a418-69506f378c55",
   "metadata": {},
   "outputs": [],
   "source": [
    "from sklearn.model_selection import GridSearchCV\n",
    "from sklearn.svm import SVC\n",
    "\n",
    "param_grid = {\n",
    "    'C': [0.1, 1, 10], \n",
    "    'kernel': ['linear', 'rbf'], \n",
    "    'gamma': ['scale', 'auto']\n",
    "}\n",
    "\n",
    "grid_search = GridSearchCV(SVC(), param_grid, cv=5, scoring='accuracy')\n",
    "grid_search.fit(X_train, y_train)\n",
    "\n",
    "print(\"Best Parameters:\", grid_search.best_params_)\n",
    "best_svm = grid_search.best_estimator_\n"
   ]
  },
  {
   "cell_type": "code",
   "execution_count": null,
   "id": "174d33e4-ef2f-4c17-b01a-c73e88b3b408",
   "metadata": {},
   "outputs": [],
   "source": [
    "y_pred = best_svm.predict(tfidf.transform([\"I hate this group of people!\"]))\n",
    "print(\"Prediction:\", y_pred)  # Expecting 1 for hate speech\n"
   ]
  },
  {
   "cell_type": "code",
   "execution_count": null,
   "id": "9d3a438e-6074-4b27-965d-2e14371dbd6e",
   "metadata": {},
   "outputs": [],
   "source": []
  },
  {
   "cell_type": "code",
   "execution_count": 1,
   "id": "26c727d8-a48f-4d4b-914a-d1cb95d43592",
   "metadata": {},
   "outputs": [
    {
     "name": "stdout",
     "output_type": "stream",
     "text": [
      "label\n",
      "0    29720\n",
      "1     2242\n",
      "Name: count, dtype: int64\n",
      "label\n",
      "0    29720\n",
      "1    29720\n",
      "Name: count, dtype: int64\n"
     ]
    }
   ],
   "source": [
    "import pandas as pd\n",
    "from sklearn.model_selection import train_test_split\n",
    "from sklearn.feature_extraction.text import TfidfVectorizer\n",
    "from sklearn.svm import SVC\n",
    "import joblib\n",
    "\n",
    "# Load dataset\n",
    "df = pd.read_csv(r\"C:\\Users\\Vishwa\\Desktop\\GUVI captone\\twitter\\ds\\train.csv\")  # Update path\n",
    "\n",
    "# Class distribution check\n",
    "print(df[\"label\"].value_counts())\n",
    "\n",
    "# Balance the dataset (Oversampling Minority Class)\n",
    "from sklearn.utils import resample\n",
    "df_majority = df[df.label == 0]  # Non-hate speech\n",
    "df_minority = df[df.label == 1]  # Hate speech\n",
    "\n",
    "df_minority_upsampled = resample(df_minority, \n",
    "                                 replace=True,  # Upsample minority class\n",
    "                                 n_samples=len(df_majority),  \n",
    "                                 random_state=42)\n",
    "\n",
    "df_balanced = pd.concat([df_majority, df_minority_upsampled])\n",
    "\n",
    "# Shuffle dataset\n",
    "df_balanced = df_balanced.sample(frac=1, random_state=42).reset_index(drop=True)\n",
    "print(df_balanced[\"label\"].value_counts())  # Check balance\n",
    "\n",
    "# Split dataset\n",
    "X_train, X_test, y_train, y_test = train_test_split(df_balanced[\"tweet\"], df_balanced[\"label\"], test_size=0.2, random_state=42)\n"
   ]
  },
  {
   "cell_type": "code",
   "execution_count": 3,
   "id": "6150ef94-953e-4ce0-a1b3-12f18e96873c",
   "metadata": {},
   "outputs": [],
   "source": [
    "# TF-IDF vectorization\n",
    "tfidf = TfidfVectorizer(max_features=5000, stop_words=\"english\")\n",
    "X_train_tfidf = tfidf.fit_transform(X_train)\n",
    "X_test_tfidf = tfidf.transform(X_test)\n"
   ]
  },
  {
   "cell_type": "code",
   "execution_count": 5,
   "id": "a75ea7f3-0761-4c11-89cd-bfed9eb6ce74",
   "metadata": {},
   "outputs": [
    {
     "name": "stdout",
     "output_type": "stream",
     "text": [
      "Model Accuracy: 96.93%\n"
     ]
    }
   ],
   "source": [
    "# Train SVM model\n",
    "svm_model = SVC(kernel=\"linear\", probability=True)\n",
    "svm_model.fit(X_train_tfidf, y_train)\n",
    "\n",
    "# Test Accuracy\n",
    "print(f\"Model Accuracy: {svm_model.score(X_test_tfidf, y_test) * 100:.2f}%\")\n"
   ]
  },
  {
   "cell_type": "code",
   "execution_count": 7,
   "id": "cfac2d22-fb47-451a-bc63-9639b43efc00",
   "metadata": {},
   "outputs": [
    {
     "name": "stdout",
     "output_type": "stream",
     "text": [
      "Model & Vectorizer Saved Successfully!\n"
     ]
    }
   ],
   "source": [
    "# Save the trained model\n",
    "joblib.dump(svm_model, \"svm_model.pkl\")\n",
    "joblib.dump(tfidf, \"tfidf_vectorizer.pkl\")\n",
    "print(\"Model & Vectorizer Saved Successfully!\")\n"
   ]
  },
  {
   "cell_type": "code",
   "execution_count": 9,
   "id": "000ee9f9-f93a-4519-8e85-5d147bb5498f",
   "metadata": {},
   "outputs": [
    {
     "name": "stdout",
     "output_type": "stream",
     "text": [
      "Model Prediction: 1\n"
     ]
    }
   ],
   "source": [
    "import joblib\n",
    "\n",
    "# Load the new model\n",
    "svm_model = joblib.load(\"svm_model.pkl\")\n",
    "tfidf = joblib.load(\"tfidf_vectorizer.pkl\")\n",
    "\n",
    "# Test input\n",
    "test_text = \"hate worst bad\"\n",
    "transformed_text = tfidf.transform([test_text])\n",
    "prediction = svm_model.predict(transformed_text)[0]\n",
    "\n",
    "print(f\"Model Prediction: {prediction}\")  # Expected: 1 (Hate Speech)\n"
   ]
  },
  {
   "cell_type": "code",
   "execution_count": null,
   "id": "531ddd3b-fbf5-496c-8364-252e76f88990",
   "metadata": {},
   "outputs": [],
   "source": []
  }
 ],
 "metadata": {
  "kernelspec": {
   "display_name": "Python 3 (ipykernel)",
   "language": "python",
   "name": "python3"
  },
  "language_info": {
   "codemirror_mode": {
    "name": "ipython",
    "version": 3
   },
   "file_extension": ".py",
   "mimetype": "text/x-python",
   "name": "python",
   "nbconvert_exporter": "python",
   "pygments_lexer": "ipython3",
   "version": "3.11.7"
  }
 },
 "nbformat": 4,
 "nbformat_minor": 5
}
