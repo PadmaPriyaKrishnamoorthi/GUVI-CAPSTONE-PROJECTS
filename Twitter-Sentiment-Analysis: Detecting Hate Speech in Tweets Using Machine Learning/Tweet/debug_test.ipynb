{
 "cells": [
  {
   "cell_type": "code",
   "execution_count": 5,
   "id": "7717fdaa-65ef-4e67-8878-132ac65eb557",
   "metadata": {},
   "outputs": [
    {
     "name": "stderr",
     "output_type": "stream",
     "text": [
      "[nltk_data] Downloading package stopwords to\n",
      "[nltk_data]     C:\\Users\\Vishwa\\AppData\\Roaming\\nltk_data...\n",
      "[nltk_data]   Package stopwords is already up-to-date!\n"
     ]
    },
    {
     "name": "stdout",
     "output_type": "stream",
     "text": [
      "Processed Text: hate worst bad\n",
      "Model Prediction: 0\n"
     ]
    }
   ],
   "source": [
    "import joblib\n",
    "import re\n",
    "import nltk\n",
    "from nltk.corpus import stopwords\n",
    "\n",
    "# Ensure stopwords are downloaded\n",
    "nltk.download('stopwords')\n",
    "stop_words = set(stopwords.words('english'))\n",
    "\n",
    "# Load the saved model and vectorizer\n",
    "svm_model = joblib.load(\"svm_model.pkl\")\n",
    "tfidf = joblib.load(\"tfidf_vectorizer.pkl\")\n",
    "\n",
    "# Define text cleaning function\n",
    "def clean_text(text):\n",
    "    text = re.sub(r\"http\\S+|www\\S+|https\\S+\", '', text, flags=re.MULTILINE)  # Remove URLs\n",
    "    text = re.sub(r'\\W', ' ', text)  # Remove special characters\n",
    "    text = re.sub(r'\\s+[a-zA-Z]\\s+', ' ', text)  # Remove single characters\n",
    "    text = re.sub(r'\\s+', ' ', text)  # Remove extra spaces\n",
    "    text = text.lower()  # Convert to lowercase\n",
    "    text = ' '.join(word for word in text.split() if word not in stop_words)  # Remove stopwords\n",
    "    return text\n",
    "\n",
    "# Test input\n",
    "test_text = \"hate worst bad\"\n",
    "\n",
    "# Clean and transform the input\n",
    "cleaned_text = clean_text(test_text)\n",
    "transformed_text = tfidf.transform([cleaned_text])\n",
    "\n",
    "# Make a prediction\n",
    "prediction = svm_model.predict(transformed_text)[0]\n",
    "\n",
    "# Print results\n",
    "print(f\"Processed Text: {cleaned_text}\")\n",
    "print(f\"Model Prediction: {prediction}\")\n"
   ]
  },
  {
   "cell_type": "code",
   "execution_count": 7,
   "id": "de29551c-648b-4d69-bd2f-a268ea492ccf",
   "metadata": {},
   "outputs": [
    {
     "name": "stdout",
     "output_type": "stream",
     "text": [
      "0\n"
     ]
    }
   ],
   "source": [
    "test_text = \"hate worst bad\"\n",
    "cleaned_text = clean_text(test_text)\n",
    "transformed_text = tfidf.transform([cleaned_text])\n",
    "print(svm_model.predict(transformed_text)[0])\n"
   ]
  },
  {
   "cell_type": "code",
   "execution_count": 11,
   "id": "c229770c-5237-4bd9-9967-1c6c17a78313",
   "metadata": {},
   "outputs": [
    {
     "name": "stdout",
     "output_type": "stream",
     "text": [
      "Model Prediction: 0\n"
     ]
    }
   ],
   "source": [
    "import joblib\n",
    "\n",
    "# Load model & vectorizer\n",
    "svm_model = joblib.load(\"svm_model.pkl\")\n",
    "tfidf = joblib.load(\"tfidf_vectorizer.pkl\")\n",
    "\n",
    "# Test sample\n",
    "test_text = \"hate worst bad\"\n",
    "transformed_text = tfidf.transform([test_text])\n",
    "prediction = svm_model.predict(transformed_text)[0]\n",
    "\n",
    "print(f\"Model Prediction: {prediction}\")  # Expected: 1 (Hate Speech)\n"
   ]
  },
  {
   "cell_type": "code",
   "execution_count": null,
   "id": "b5233577-0c68-4610-b6ad-35d2d122a846",
   "metadata": {},
   "outputs": [],
   "source": []
  }
 ],
 "metadata": {
  "kernelspec": {
   "display_name": "Python 3 (ipykernel)",
   "language": "python",
   "name": "python3"
  },
  "language_info": {
   "codemirror_mode": {
    "name": "ipython",
    "version": 3
   },
   "file_extension": ".py",
   "mimetype": "text/x-python",
   "name": "python",
   "nbconvert_exporter": "python",
   "pygments_lexer": "ipython3",
   "version": "3.11.7"
  }
 },
 "nbformat": 4,
 "nbformat_minor": 5
}
